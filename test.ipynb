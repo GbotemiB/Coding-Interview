{
 "metadata": {
  "language_info": {
   "codemirror_mode": {
    "name": "ipython",
    "version": 3
   },
   "file_extension": ".py",
   "mimetype": "text/x-python",
   "name": "python",
   "nbconvert_exporter": "python",
   "pygments_lexer": "ipython3",
   "version": "3.6.10-final"
  },
  "orig_nbformat": 2,
  "kernelspec": {
   "name": "python361064bitbasecondaab0bda1e83804022b5fef57150dbacec",
   "display_name": "Python 3.6.10 64-bit ('base': conda)"
  }
 },
 "nbformat": 4,
 "nbformat_minor": 2,
 "cells": [
  {
   "cell_type": "code",
   "execution_count": 1,
   "metadata": {},
   "outputs": [],
   "source": [
    "def valid(A):\n",
    "    for i in range(len(A)):\n",
    "        if len(A) > 2:\n",
    "            max_integer = max(A)\n",
    "            max_index = A.index(max_integer)\n",
    "            A_array1 = A[:max_integer]\n",
    "            for i in range(len(A[:max_integer])):\n",
    "                if A[i] < A[i+1]:\n",
    "                    pass\n",
    "                else:\n",
    "                    return False\n",
    "            for i in range(len(A[max_integer:]),len(A)-1):\n",
    "                if A[i] > A[i+1]:\n",
    "                    pass\n",
    "                else:\n",
    "                    return False\n",
    "            return True"
   ]
  },
  {
   "cell_type": "code",
   "execution_count": 4,
   "metadata": {},
   "outputs": [],
   "source": [
    "a=[0,3,2,1]"
   ]
  },
  {
   "cell_type": "code",
   "execution_count": 5,
   "metadata": {
    "tags": []
   },
   "outputs": [
    {
     "output_type": "stream",
     "name": "stdout",
     "text": "False\n"
    }
   ],
   "source": [
    "print(valid(a))"
   ]
  },
  {
   "cell_type": "code",
   "execution_count": null,
   "metadata": {},
   "outputs": [],
   "source": []
  }
 ]
}